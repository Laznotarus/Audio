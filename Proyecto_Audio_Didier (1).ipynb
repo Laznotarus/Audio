{
 "cells": [
  {
   "cell_type": "code",
   "execution_count": null,
   "id": "409b4a43-b9c3-4d93-9170-572899bb3d03",
   "metadata": {},
   "outputs": [],
   "source": [
    "!pip install JACK-Client\n",
    "!pip install soundfile"
   ]
  },
  {
   "cell_type": "code",
   "execution_count": 5,
   "id": "83594f41-20cc-466a-a657-1fa939339f00",
   "metadata": {},
   "outputs": [],
   "source": [
    "#Import libraries\n",
    "import numpy as np\n",
    "import pandas as pd\n",
    "import scipy as sc\n",
    "import matplotlib.pyplot as plt\n",
    "import jack\n",
    "import wave\n",
    "import sys\n",
    "import os\n",
    "import threading\n",
    "import soundfile as sf\n",
    "import time"
   ]
  },
  {
   "cell_type": "code",
   "execution_count": 58,
   "id": "19d563d0-786a-4fb2-b0de-1c8ed1c16506",
   "metadata": {},
   "outputs": [],
   "source": [
    "#Version final de CCVPHAT\n",
    "def localization(filex, filey, window, distm, hann):\n",
    "    \"\"\"\n",
    "    This function implements ccvphat procedure for sound source localitation\n",
    "    utilizing only 2 microphones in real time\n",
    "    filex = Audio file for first microphone \n",
    "    filey = Audio file for second microphone\n",
    "    window = size of sample window we are going to use\n",
    "    distm = distance between microphones\n",
    "    hann = 0,1. If 0 dont use hann, if 1, use hann\n",
    "    \n",
    "    \"\"\"\n",
    "    xa = sf.read(filex)  \n",
    "    ya = sf.read(filey)\n",
    "    #sf.read returns file, frames, the values are on the first entry\n",
    "    xav = xa[0]  \n",
    "    yav = ya[0]\n",
    "    venti = 0\n",
    "    vento = window\n",
    "    aal = len(xav)\n",
    "    angulos = []\n",
    "    #samp is the maximum sample delay given physical limits\n",
    "    #We calculate the maximum delay in samples taking wind_velocity = 343, supossing the medium is air\n",
    "    #And we also use de distance between microphones and frames per second\n",
    "    samp = int(np.floor((distm *xa[1])/ (343)))\n",
    "    while venti < aal: \n",
    "        #Reading the signal by frame windows changing each iteration\n",
    "        xav1 = xav[venti:vento]\n",
    "        yav1 = yav[venti:vento]\n",
    "        #We center the signals\n",
    "        mx = np.mean(xav1)\n",
    "        my = np.mean(yav1)\n",
    "        for i in range(window):\n",
    "            xav1[i] = xav1[i] - mx\n",
    "            yav1[i] = yav1[i] - my\n",
    "        if hann == 1:\n",
    "            xav1[i] = 0.5*(1-np.cos(2*np.pi*xav1[i] /(1024)))  #this is periodic hann\n",
    "            yav1[i] = 0.5*(1-np.cos(2*np.pi*yav1[i] /(1024)))\n",
    "        else:\n",
    "            pass\n",
    "        #We apply fourier transformation to both signals\n",
    "        xfaira1 = np.fft.fft(xav1)\n",
    "        yfaira1 = np.fft.fft(yav1)\n",
    "        #We calculate generalized cross correlation with fase transformation\n",
    "        ccvfpaira1 = (xfaira1*np.conj(yfaira1))/(np.abs(xfaira1*np.conj(yfaira1)))\n",
    "        ccvfpaira1[np.isnan(ccvfpaira1)] = 0  #We alter the first value because is 0 and causes mistakes\n",
    "        #Return to time domain\n",
    "        ccvpaira1 = np.real(np.fft.ifft(ccvfpaira1))  \n",
    "        #Maximum value\n",
    "        #Depending on the window we limit the possible values of our array\n",
    "        valoresp = np.concatenate((ccvpaira1[0:samp],ccvpaira1[window-samp:window-1])) #Possible values\n",
    "        maxpaira = np.max(valoresp) #Searching for maximum value possible\n",
    "        indicepaira = np.where(valoresp == maxpaira) #we search de index of that value in our array\n",
    "        #We calculate the delay frame considering it can be at the beggining or end\n",
    "        if indicepaira[0][0]<len(valoresp)/2:\n",
    "            delay = indicepaira[0][0] - 1\n",
    "        else:\n",
    "            delay = len(valoresp)  - indicepaira[0][0] -1  \n",
    "        t = (delay/48000) #our delay in seconds\n",
    "        #To calculate the angle we use the relation: sin(theta)=V_sound * t_2-1 /d\n",
    "        angulo = np.rad2deg(np.arcsin((343*t)/distm)) #We also change the angle to degrees in this step.\n",
    "        angulos = angulos + [angulo]\n",
    "        #We have to change values of loop in order to advance through the whole file\n",
    "        venti = venti + window\n",
    "        vento = vento + window\n",
    "    print(\"Quantity of angles obtained:\", len(angulos))\n",
    "    angulof = np.mean(angulos) #We calculate the mean of angles saved from all windows\n",
    "    print(\"Phi is equal to:\", angulof)\n",
    "    print(\"Theta is equal to:\", 90-angulof)"
   ]
  },
  {
   "cell_type": "code",
   "execution_count": 75,
   "id": "0966b377-8dc5-49dc-beb3-7b10286fbc57",
   "metadata": {},
   "outputs": [
    {
     "name": "stderr",
     "output_type": "stream",
     "text": [
      "<ipython-input-58-83601084fe4c>:45: RuntimeWarning: invalid value encountered in true_divide\n",
      "  ccvfpaira1 = (xfaira1*np.conj(yfaira1))/(np.abs(xfaira1*np.conj(yfaira1)))\n"
     ]
    },
    {
     "name": "stdout",
     "output_type": "stream",
     "text": [
      "Quantity of angles obtained: 1502\n",
      "Theta is equal to: 25.092325013445862\n",
      "Phi is equal to: 64.90767498655414\n"
     ]
    }
   ],
   "source": [
    "localization('wav_mic1.wav', 'wav_mic2.wav', 1024, 0.18, 0) #no noice, no hann, window=1024, angle=60"
   ]
  },
  {
   "cell_type": "code",
   "execution_count": 60,
   "id": "eb9a8280-4be3-4a72-b027-0d325a78a1f2",
   "metadata": {},
   "outputs": [
    {
     "name": "stderr",
     "output_type": "stream",
     "text": [
      "<ipython-input-58-83601084fe4c>:45: RuntimeWarning: invalid value encountered in true_divide\n",
      "  ccvfpaira1 = (xfaira1*np.conj(yfaira1))/(np.abs(xfaira1*np.conj(yfaira1)))\n"
     ]
    },
    {
     "name": "stdout",
     "output_type": "stream",
     "text": [
      "Quantity of angles obtained: 751\n",
      "Theta is equal to: 29.0366734010125\n",
      "Phi is equal to: 60.9633265989875\n"
     ]
    }
   ],
   "source": [
    "localization('wav_mic1.wav', 'wav_mic2.wav', 2048, 0.18, 0) #no noice, no hann, window=2048 angle=60"
   ]
  },
  {
   "cell_type": "code",
   "execution_count": 61,
   "id": "888966b9-71f1-4db4-91da-42b105463cf3",
   "metadata": {},
   "outputs": [
    {
     "name": "stdout",
     "output_type": "stream",
     "text": [
      "Quantity of angles obtained: 1502\n",
      "Theta is equal to: 22.376430908146613\n",
      "Phi is equal to: 67.62356909185338\n"
     ]
    }
   ],
   "source": [
    "localization('wav_mic1.wav', 'wav_mic2.wav', 1024, 0.18, 1) #no noice, with hann, window=1024 angle=60"
   ]
  },
  {
   "cell_type": "code",
   "execution_count": 63,
   "id": "5ce5cf21-9472-4091-8090-5ecaeac37afd",
   "metadata": {},
   "outputs": [
    {
     "name": "stderr",
     "output_type": "stream",
     "text": [
      "<ipython-input-58-83601084fe4c>:45: RuntimeWarning: invalid value encountered in true_divide\n",
      "  ccvfpaira1 = (xfaira1*np.conj(yfaira1))/(np.abs(xfaira1*np.conj(yfaira1)))\n"
     ]
    },
    {
     "name": "stdout",
     "output_type": "stream",
     "text": [
      "Quantity of angles obtained: 1502\n",
      "Theta is equal to: -0.38333790804503093\n",
      "Phi is equal to: 90.38333790804504\n"
     ]
    }
   ],
   "source": [
    "localization('wav_mic1n.wav', 'wav_mic2n.wav', 1024, 0.18, 0) #with noice, mo hann, window=1024 angle=60"
   ]
  },
  {
   "cell_type": "code",
   "execution_count": 65,
   "id": "df512aff-e7a5-4b6e-890e-7b0ac6ec77de",
   "metadata": {},
   "outputs": [
    {
     "name": "stdout",
     "output_type": "stream",
     "text": [
      "Quantity of angles obtained: 1502\n",
      "Theta is equal to: -0.9064358593743849\n",
      "Phi is equal to: 90.90643585937438\n"
     ]
    }
   ],
   "source": [
    "localization('wav_mic1n.wav', 'wav_mic2n.wav', 1024, 0.18, 1) #with noice, with hann, window=1024 angle=60"
   ]
  },
  {
   "cell_type": "code",
   "execution_count": 66,
   "id": "00299463-0ab2-4eca-9ca4-eb4de19a6672",
   "metadata": {},
   "outputs": [
    {
     "name": "stderr",
     "output_type": "stream",
     "text": [
      "<ipython-input-58-83601084fe4c>:45: RuntimeWarning: invalid value encountered in true_divide\n",
      "  ccvfpaira1 = (xfaira1*np.conj(yfaira1))/(np.abs(xfaira1*np.conj(yfaira1)))\n"
     ]
    },
    {
     "name": "stdout",
     "output_type": "stream",
     "text": [
      "Quantity of angles obtained: 1502\n",
      "Theta is equal to: 0.17178751650943988\n",
      "Phi is equal to: 89.82821248349056\n"
     ]
    }
   ],
   "source": [
    "#Trying with other files\n",
    "localization('wav_mic190.wav', 'wav_mic290.wav', 1024, 0.18, 0) #no noice, no hann, window=1024 angle=90"
   ]
  },
  {
   "cell_type": "code",
   "execution_count": 67,
   "id": "13ce44f9-299f-4005-97b4-54019bb58dbe",
   "metadata": {},
   "outputs": [
    {
     "name": "stderr",
     "output_type": "stream",
     "text": [
      "<ipython-input-58-83601084fe4c>:45: RuntimeWarning: invalid value encountered in true_divide\n",
      "  ccvfpaira1 = (xfaira1*np.conj(yfaira1))/(np.abs(xfaira1*np.conj(yfaira1)))\n"
     ]
    },
    {
     "name": "stdout",
     "output_type": "stream",
     "text": [
      "Quantity of angles obtained: 751\n",
      "Theta is equal to: -0.011104392502885125\n",
      "Phi is equal to: 90.01110439250289\n"
     ]
    }
   ],
   "source": [
    "#Trying with other files\n",
    "localization('wav_mic190.wav', 'wav_mic290.wav', 2048, 0.18, 0) #no noice, no hann, window=2048 angle=90"
   ]
  },
  {
   "cell_type": "code",
   "execution_count": 68,
   "id": "37216643-479d-4edb-a388-0f94c10a0574",
   "metadata": {},
   "outputs": [
    {
     "name": "stderr",
     "output_type": "stream",
     "text": [
      "<ipython-input-58-83601084fe4c>:45: RuntimeWarning: invalid value encountered in true_divide\n",
      "  ccvfpaira1 = (xfaira1*np.conj(yfaira1))/(np.abs(xfaira1*np.conj(yfaira1)))\n"
     ]
    },
    {
     "name": "stdout",
     "output_type": "stream",
     "text": [
      "Quantity of angles obtained: 1504\n",
      "Theta is equal to: -0.721644076855527\n",
      "Phi is equal to: 90.72164407685553\n"
     ]
    }
   ],
   "source": [
    "#Trying with other files\n",
    "localization('wav_mic190n.wav', 'wav_mic290n.wav', 1024, 0.18, 0) #with noice, no hann, window=2048 angle=90"
   ]
  },
  {
   "cell_type": "code",
   "execution_count": 69,
   "id": "2ad045d0-5a9f-4593-98c1-779f6e3f70c4",
   "metadata": {},
   "outputs": [
    {
     "name": "stdout",
     "output_type": "stream",
     "text": [
      "Quantity of angles obtained: 1504\n",
      "Theta is equal to: -0.4094482585564652\n",
      "Phi is equal to: 90.40944825855647\n"
     ]
    }
   ],
   "source": [
    "#Trying with other files\n",
    "localization('wav_mic190n.wav', 'wav_mic290n.wav', 1024, 0.18, 1) #with noice, with hann, window=1024 angle=90"
   ]
  },
  {
   "cell_type": "code",
   "execution_count": 70,
   "id": "a3d699a2-9976-4319-b981-872d650fd529",
   "metadata": {},
   "outputs": [
    {
     "name": "stdout",
     "output_type": "stream",
     "text": [
      "Quantity of angles obtained: 1502\n",
      "Theta is equal to: 0.340237782425113\n",
      "Phi is equal to: 89.6597622175749\n"
     ]
    }
   ],
   "source": [
    "#Trying with other files\n",
    "localization('wav_mic190.wav', 'wav_mic290.wav', 1024, 0.18, 1) #no noice, with hann, window=1024 angle=90"
   ]
  },
  {
   "cell_type": "code",
   "execution_count": 71,
   "id": "0674a113-e721-4702-a88d-36553d6192ed",
   "metadata": {},
   "outputs": [
    {
     "name": "stdout",
     "output_type": "stream",
     "text": [
      "Quantity of angles obtained: 751\n",
      "Theta is equal to: 0.048024023829560135\n",
      "Phi is equal to: 89.95197597617044\n"
     ]
    }
   ],
   "source": [
    "#Trying with other files\n",
    "localization('wav_mic190.wav', 'wav_mic290.wav', 2048, 0.18, 1) #no noice, with hann, window=2048 angle=90"
   ]
  },
  {
   "cell_type": "code",
   "execution_count": 72,
   "id": "6a8924ee-aa44-490e-97db-23fb84524a28",
   "metadata": {},
   "outputs": [
    {
     "name": "stderr",
     "output_type": "stream",
     "text": [
      "<ipython-input-58-83601084fe4c>:45: RuntimeWarning: invalid value encountered in true_divide\n",
      "  ccvfpaira1 = (xfaira1*np.conj(yfaira1))/(np.abs(xfaira1*np.conj(yfaira1)))\n"
     ]
    },
    {
     "name": "stdout",
     "output_type": "stream",
     "text": [
      "Quantity of angles obtained: 1503\n",
      "Theta is equal to: 2.303606467142043\n",
      "Phi is equal to: 87.69639353285795\n"
     ]
    }
   ],
   "source": [
    "#Trying with other files that have more than one signal\n",
    "localization('wav_mic1v.wav', 'wav_mic2v.wav', 1024, 0.18, 0) #no noice, no hann, window=1024 angle=-30, 90"
   ]
  },
  {
   "cell_type": "code",
   "execution_count": 74,
   "id": "0a05166f-8727-4a80-80af-4e4f749d0501",
   "metadata": {},
   "outputs": [
    {
     "name": "stdout",
     "output_type": "stream",
     "text": [
      "Quantity of angles obtained: 1503\n",
      "Theta is equal to: 2.5400493357268363\n",
      "Phi is equal to: 87.45995066427317\n"
     ]
    }
   ],
   "source": [
    "#Trying with other files that have more than one signal\n",
    "localization('wav_mic1v.wav', 'wav_mic2v.wav', 1024, 0.18, 1) #no noice, with hann, window=2048 angle=-30, 90"
   ]
  },
  {
   "cell_type": "code",
   "execution_count": null,
   "id": "c3078443-aa34-406e-ba4a-3060cf33b22e",
   "metadata": {},
   "outputs": [],
   "source": []
  },
  {
   "cell_type": "code",
   "execution_count": null,
   "id": "c5396a5d-a314-4f93-a07c-943173dabac4",
   "metadata": {},
   "outputs": [],
   "source": []
  }
 ],
 "metadata": {
  "kernelspec": {
   "display_name": "Python 3",
   "language": "python",
   "name": "python3"
  },
  "language_info": {
   "codemirror_mode": {
    "name": "ipython",
    "version": 3
   },
   "file_extension": ".py",
   "mimetype": "text/x-python",
   "name": "python",
   "nbconvert_exporter": "python",
   "pygments_lexer": "ipython3",
   "version": "3.8.8"
  }
 },
 "nbformat": 4,
 "nbformat_minor": 5
}
